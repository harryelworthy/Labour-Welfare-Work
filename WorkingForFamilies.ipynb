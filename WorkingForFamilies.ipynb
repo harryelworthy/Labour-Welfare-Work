{
 "cells": [
  {
   "cell_type": "markdown",
   "metadata": {},
   "source": [
    "# NZ Benefits Graph Creation\n",
    "\n",
    "This won't be a very pretty notebook, almost all of it was created in a rush while at Labour. The Main Notebook will take these graphs and run with them."
   ]
  },
  {
   "cell_type": "code",
   "execution_count": 117,
   "metadata": {},
   "outputs": [],
   "source": [
    "import os  \n",
    "import numpy as np  \n",
    "import pandas as pd  \n",
    "import matplotlib.pyplot as plt \n",
    "from re import sub\n",
    "from decimal import Decimal\n",
    "%matplotlib inline\n",
    "\n",
    "# Quick edit function\n",
    "def deDollar(str):\n",
    "    return float(sub(r'[^\\d.]', '', str))"
   ]
  },
  {
   "cell_type": "markdown",
   "metadata": {},
   "source": [
    "I create a Person class so that we can easily adjust parameters to check the effects of a policy on a different demographic"
   ]
  },
  {
   "cell_type": "code",
   "execution_count": 118,
   "metadata": {},
   "outputs": [],
   "source": [
    "class Person:\n",
    "    def __init__(self, hours,hwage,numKids = 0, accom = False,couple = False,livingArea = 1,\n",
    "                 wHousingCost = 0, renting = True,jobSeeker = False):\n",
    "        self.hours = hours\n",
    "        self.hwage = hwage\n",
    "        self.numKids = numKids\n",
    "        self.accom = accom\n",
    "        self.couple = couple\n",
    "        self.livingArea = livingArea\n",
    "        self.wHousingCost = wHousingCost\n",
    "        self.renting = renting\n",
    "        self.jobSeeker = jobSeeker\n",
    "    def wibtPre(self):\n",
    "        # Weekly Pure Pre-Tax Income\n",
    "        return self.hours*self.hwage\n",
    "    def wibt(self):\n",
    "        # Weekly Pre-Tax Income inc. Jobseeker allowance\n",
    "        return self.wibtPre() + jobSeeker(self)\n",
    "    def aibt(self):\n",
    "        # Annual Pre-Tax Income\n",
    "        return self.wibt()*52\n",
    "    def taxOwed(self):\n",
    "        # Tax Owed on Income\n",
    "        return taxOwed(self)\n",
    "    def aiat(self):\n",
    "        # Annual After-Tax Income\n",
    "        return self.wiat()*52\n",
    "    def wiat(self):\n",
    "        # Weekly After Tax Income\n",
    "        return self.wibt()-self.taxOwed()"
   ]
  },
  {
   "cell_type": "code",
   "execution_count": 119,
   "metadata": {},
   "outputs": [],
   "source": [
    "Person1 = Person(50,18.46,2,True,True, 1, 550, True, False)"
   ]
  },
  {
   "cell_type": "markdown",
   "metadata": {},
   "source": [
    "Next I create a tax function to easily calculate tax owed. I'm sure there is a much better, cleaner, easier way to do this. One thing I wanted to keep was an ability to quickly change both tax brackets and rates."
   ]
  },
  {
   "cell_type": "code",
   "execution_count": 120,
   "metadata": {},
   "outputs": [],
   "source": [
    "# Set Tax Brackets\n",
    "tb = [[14000,.105],\n",
    "      [48000,.175],\n",
    "      [70000,.3],\n",
    "      [None,.33]]\n",
    "\n",
    "def taxBracket1(aIncome):\n",
    "    return aIncome*tb[0][1]\n",
    "def taxBracket2(aIncome):\n",
    "    amountOver = aIncome-tb[0][0]\n",
    "    return tb[0][0]*tb[0][1] + amountOver*tb[1][1]\n",
    "def taxBracket3(aIncome):\n",
    "    amountOver = aIncome-tb[1][0]\n",
    "    return tb[0][0]*tb[0][1] + (tb[1][0]-tb[0][0])*tb[1][1] + amountOver*tb[2][1]\n",
    "def taxBracket4(aIncome):\n",
    "    amountOver = aIncome-tb[2][0]\n",
    "    return (tb[0][0]*tb[0][1] + \n",
    "           (tb[1][0]-tb[0][0])*tb[1][1] + \n",
    "           (tb[2][0]-tb[1][0]*tb[2][1] + \n",
    "            amountOver*tb[3][1]))"
   ]
  },
  {
   "cell_type": "code",
   "execution_count": 121,
   "metadata": {},
   "outputs": [],
   "source": [
    "# Get Tax Owed by Annual Income\n",
    "def taxOwedY(Person):\n",
    "    aI = Person.aibt()\n",
    "    if aI <=tb[0][0]:\n",
    "        return taxBracket1(aI)\n",
    "    elif aI <= tb[1][0]:\n",
    "        return taxBracket2(aI)\n",
    "    elif aI <= tb[2][0]:\n",
    "        return taxBracket3(aI)\n",
    "    else:\n",
    "        return taxBracket4(aI)\n",
    "\n",
    "def taxOwed(Person):\n",
    "    return taxOwedY(Person)/52"
   ]
  },
  {
   "cell_type": "code",
   "execution_count": 122,
   "metadata": {},
   "outputs": [
    {
     "data": {
      "text/plain": [
       "142.67884615384614"
      ]
     },
     "execution_count": 122,
     "metadata": {},
     "output_type": "execute_result"
    }
   ],
   "source": [
    "Person1.taxOwed()"
   ]
  },
  {
   "cell_type": "markdown",
   "metadata": {},
   "source": [
    "This was checked in a Tax Calculator to make sure I hadn't missed anything"
   ]
  },
  {
   "cell_type": "markdown",
   "metadata": {},
   "source": [
    "Similar to the Tax function, I make a number of benefit functions. These are even messier than the tax function. Forgive me, I was in a hurry. Here you can see the exact workings of the jobseeker payment (unemployment insurance) as I worked it out, in code form. People still earn even if they are working, the payment decreasing with their income."
   ]
  },
  {
   "cell_type": "code",
   "execution_count": 123,
   "metadata": {},
   "outputs": [
    {
     "data": {
      "text/plain": [
       "0"
      ]
     },
     "execution_count": 123,
     "metadata": {},
     "output_type": "execute_result"
    }
   ],
   "source": [
    "def jobSeeker(P):\n",
    "    if not P.jobSeeker:\n",
    "        return 0\n",
    "    sub = 0\n",
    "    \n",
    "    if P.wibtPre() < 80:\n",
    "        wib = 0\n",
    "    else:\n",
    "        wib = P.wibtPre() - 80\n",
    "        \n",
    "    if P.couple:\n",
    "        if P.numKids==0:\n",
    "            sub = 354.06 - (wib)*0.35\n",
    "        else:\n",
    "            sub = 379.34 - (wib)*0.35\n",
    "    else:\n",
    "        if P.numKids ==0:\n",
    "            sub = 212.45 - (wib)*0.7\n",
    "        else:\n",
    "            if wib < 20:\n",
    "                sub = 329.57\n",
    "            elif wib < 120:\n",
    "                sub = 329.57 - (wib-20)*0.3\n",
    "            else:\n",
    "                sub = 329.57 - (0.3 * 100) - (wib-120)*0.7\n",
    "    if sub<0: sub = 0\n",
    "    return sub\n",
    "jobSeeker(Person1)"
   ]
  },
  {
   "cell_type": "markdown",
   "metadata": {},
   "source": [
    "The Accomodation Supplement depends on the 'zone' you live in (based on housing expenses) so that was factored in. These look-up sheets are from a government site"
   ]
  },
  {
   "cell_type": "code",
   "execution_count": 124,
   "metadata": {},
   "outputs": [
    {
     "data": {
      "text/plain": [
       "149.75"
      ]
     },
     "execution_count": 124,
     "metadata": {},
     "output_type": "execute_result"
    }
   ],
   "source": [
    "def accom(P):\n",
    "    if not P.accom:\n",
    "        return 0\n",
    "    \n",
    "    path2 = os.getcwd() + '/AccomBoundsA' + str(P.livingArea) + '.csv'\n",
    "    data2 = pd.read_csv(path2, header=0)\n",
    "    \n",
    "    row = 0\n",
    "    if P.couple:\n",
    "        if P.numKids > 0: row = 2 \n",
    "        else: row = 1\n",
    "    else:\n",
    "        if P.numKids == 0: row = 0 \n",
    "        if P.numKids == 1: row = 3 \n",
    "        else: row = 4\n",
    "\n",
    "    cutoff = deDollar(data2.iloc[row,4])\n",
    "    threshold = deDollar(data2.iloc[row,3])\n",
    "    maxpay = deDollar(data2.iloc[row,6])\n",
    "    if P.wibt() > cutoff:\n",
    "        return 0\n",
    "    \n",
    "    path3 = os.getcwd() + '/AccomThreshold.csv'\n",
    "    data3 = pd.read_csv(path3, header=0)\n",
    " \n",
    "    if P.renting: col = 1\n",
    "    else: col = 2\n",
    "    rentthreshold = deDollar(data3.iloc[row,col])\n",
    "    sub = 0\n",
    "    if P.wHousingCost > rentthreshold:\n",
    "        sub = (P.wHousingCost - rentthreshold)*0.7\n",
    "    if sub>maxpay: sub = maxpay\n",
    "    if P.wibt()>threshold:\n",
    "        sub = sub - (P.wibt()-threshold)*0.25\n",
    "\n",
    "    return sub\n",
    "\n",
    "# https://www.workandincome.govt.nz/map/income-support/extra-help/accommodation-supplement/income-non-beneficiaries-01.html\n",
    "accom(Person1)"
   ]
  },
  {
   "cell_type": "markdown",
   "metadata": {},
   "source": [
    "For three tax credits, the FTC, IWTC and MFTC, I built this table myself from a government table on the working for families credit bounds on their site. The functions look up amounts based on income and children."
   ]
  },
  {
   "cell_type": "code",
   "execution_count": 125,
   "metadata": {},
   "outputs": [
    {
     "data": {
      "text/html": [
       "<div>\n",
       "<style scoped>\n",
       "    .dataframe tbody tr th:only-of-type {\n",
       "        vertical-align: middle;\n",
       "    }\n",
       "\n",
       "    .dataframe tbody tr th {\n",
       "        vertical-align: top;\n",
       "    }\n",
       "\n",
       "    .dataframe thead th {\n",
       "        text-align: right;\n",
       "    }\n",
       "</style>\n",
       "<table border=\"1\" class=\"dataframe\">\n",
       "  <thead>\n",
       "    <tr style=\"text-align: right;\">\n",
       "      <th></th>\n",
       "      <th>Bound</th>\n",
       "      <th>FTC 1</th>\n",
       "      <th>IWTC 1</th>\n",
       "      <th>FTC 2</th>\n",
       "      <th>IWTC 2</th>\n",
       "      <th>FTC 3</th>\n",
       "      <th>IWTC 3</th>\n",
       "      <th>FTC 4</th>\n",
       "      <th>IWTC 4</th>\n",
       "      <th>FTC 5</th>\n",
       "      <th>IWTC 5</th>\n",
       "      <th>FTC 6</th>\n",
       "      <th>IWTC 6</th>\n",
       "    </tr>\n",
       "    <tr>\n",
       "      <th>LBW</th>\n",
       "      <th></th>\n",
       "      <th></th>\n",
       "      <th></th>\n",
       "      <th></th>\n",
       "      <th></th>\n",
       "      <th></th>\n",
       "      <th></th>\n",
       "      <th></th>\n",
       "      <th></th>\n",
       "      <th></th>\n",
       "      <th></th>\n",
       "      <th></th>\n",
       "      <th></th>\n",
       "    </tr>\n",
       "  </thead>\n",
       "  <tbody>\n",
       "    <tr>\n",
       "      <th>0</th>\n",
       "      <td>0 to 699</td>\n",
       "      <td>92.0</td>\n",
       "      <td>72.0</td>\n",
       "      <td>157.0</td>\n",
       "      <td>72.0</td>\n",
       "      <td>221.0</td>\n",
       "      <td>72.0</td>\n",
       "      <td>286.0</td>\n",
       "      <td>87</td>\n",
       "      <td>350</td>\n",
       "      <td>102</td>\n",
       "      <td>414</td>\n",
       "      <td>117</td>\n",
       "    </tr>\n",
       "    <tr>\n",
       "      <th>700</th>\n",
       "      <td>700 to 731</td>\n",
       "      <td>85.0</td>\n",
       "      <td>72.0</td>\n",
       "      <td>150.0</td>\n",
       "      <td>72.0</td>\n",
       "      <td>214.0</td>\n",
       "      <td>72.0</td>\n",
       "      <td>278.0</td>\n",
       "      <td>87</td>\n",
       "      <td>343</td>\n",
       "      <td>102</td>\n",
       "      <td>407</td>\n",
       "      <td>117</td>\n",
       "    </tr>\n",
       "    <tr>\n",
       "      <th>732</th>\n",
       "      <td>732 to 760</td>\n",
       "      <td>79.0</td>\n",
       "      <td>72.0</td>\n",
       "      <td>143.0</td>\n",
       "      <td>72.0</td>\n",
       "      <td>207.0</td>\n",
       "      <td>72.0</td>\n",
       "      <td>272.0</td>\n",
       "      <td>87</td>\n",
       "      <td>336</td>\n",
       "      <td>102</td>\n",
       "      <td>401</td>\n",
       "      <td>117</td>\n",
       "    </tr>\n",
       "    <tr>\n",
       "      <th>761</th>\n",
       "      <td>761 to 788</td>\n",
       "      <td>72.0</td>\n",
       "      <td>72.0</td>\n",
       "      <td>137.0</td>\n",
       "      <td>72.0</td>\n",
       "      <td>201.0</td>\n",
       "      <td>72.0</td>\n",
       "      <td>265.0</td>\n",
       "      <td>87</td>\n",
       "      <td>330</td>\n",
       "      <td>102</td>\n",
       "      <td>394</td>\n",
       "      <td>117</td>\n",
       "    </tr>\n",
       "    <tr>\n",
       "      <th>789</th>\n",
       "      <td>789 to 817</td>\n",
       "      <td>66.0</td>\n",
       "      <td>72.0</td>\n",
       "      <td>130.0</td>\n",
       "      <td>72.0</td>\n",
       "      <td>195.0</td>\n",
       "      <td>72.0</td>\n",
       "      <td>259.0</td>\n",
       "      <td>87</td>\n",
       "      <td>323</td>\n",
       "      <td>102</td>\n",
       "      <td>388</td>\n",
       "      <td>117</td>\n",
       "    </tr>\n",
       "  </tbody>\n",
       "</table>\n",
       "</div>"
      ],
      "text/plain": [
       "          Bound  FTC 1  IWTC 1  FTC 2  IWTC 2  FTC 3  IWTC 3  FTC 4  IWTC 4  \\\n",
       "LBW                                                                           \n",
       "0      0 to 699   92.0    72.0  157.0    72.0  221.0    72.0  286.0      87   \n",
       "700  700 to 731   85.0    72.0  150.0    72.0  214.0    72.0  278.0      87   \n",
       "732  732 to 760   79.0    72.0  143.0    72.0  207.0    72.0  272.0      87   \n",
       "761  761 to 788   72.0    72.0  137.0    72.0  201.0    72.0  265.0      87   \n",
       "789  789 to 817   66.0    72.0  130.0    72.0  195.0    72.0  259.0      87   \n",
       "\n",
       "     FTC 5  IWTC 5  FTC 6  IWTC 6  \n",
       "LBW                                \n",
       "0      350     102    414     117  \n",
       "700    343     102    407     117  \n",
       "732    336     102    401     117  \n",
       "761    330     102    394     117  \n",
       "789    323     102    388     117  "
      ]
     },
     "execution_count": 125,
     "metadata": {},
     "output_type": "execute_result"
    }
   ],
   "source": [
    "# Grab WFF table\n",
    "path = os.getcwd() + '/WFFCreditBounds.csv'  \n",
    "data = pd.read_csv(path, header=0, index_col='LBW')  \n",
    "\n",
    "# Get Benefits from Table\n",
    "def ftcEarned(P):\n",
    "    if P.numKids == 0:\n",
    "        return 0\n",
    "    incIndex = data.index.get_loc(P.wibt(), 'pad')\n",
    "    col = 'FTC ' + str(P.numKids)\n",
    "    ftc = data.iloc[incIndex, data.columns.get_loc(col)]\n",
    "    return ftc\n",
    "\n",
    "def iwtcEarned(P):\n",
    "    if P.numKids == 0:\n",
    "        return 0\n",
    "    if P.hours<20:\n",
    "        return 0\n",
    "    incIndex = data.index.get_loc(P.wibt(), 'pad')\n",
    "    col = 'IWTC ' + str(P.numKids)\n",
    "    ftc = data.iloc[incIndex, data.columns.get_loc(col)]\n",
    "    return ftc\n",
    "\n",
    "def mftcEarned(P):\n",
    "    if P.numKids == 0:\n",
    "        return 0\n",
    "    if P.wiat()<458 and P.hours>=20:\n",
    "        return 458-P.wiat()\n",
    "    else:\n",
    "        return 0\n",
    "    \n",
    "data.head()"
   ]
  },
  {
   "cell_type": "markdown",
   "metadata": {},
   "source": [
    "Put it all together into one benefit function. "
   ]
  },
  {
   "cell_type": "code",
   "execution_count": 126,
   "metadata": {},
   "outputs": [],
   "source": [
    "def benefitsReceived(P):\n",
    "    return (ftcEarned(P) +\n",
    "            iwtcEarned(P) +\n",
    "            mftcEarned(P) +\n",
    "            accom(P))"
   ]
  },
  {
   "cell_type": "markdown",
   "metadata": {},
   "source": [
    "# Final Values"
   ]
  },
  {
   "cell_type": "markdown",
   "metadata": {},
   "source": [
    "Define a takeHome function for weekly take home income"
   ]
  },
  {
   "cell_type": "code",
   "execution_count": 127,
   "metadata": {},
   "outputs": [
    {
     "data": {
      "text/plain": [
       "1106.0711538461537"
      ]
     },
     "execution_count": 127,
     "metadata": {},
     "output_type": "execute_result"
    }
   ],
   "source": [
    "def takeHome(P):\n",
    "    return P.wiat() + benefitsReceived(P) - jobSeeker(P)*0.8\n",
    "takeHome(Person1)"
   ]
  },
  {
   "cell_type": "code",
   "execution_count": 128,
   "metadata": {},
   "outputs": [
    {
     "data": {
      "text/plain": [
       "325.75"
      ]
     },
     "execution_count": 128,
     "metadata": {},
     "output_type": "execute_result"
    }
   ],
   "source": [
    "benefitsReceived(Person1)"
   ]
  },
  {
   "cell_type": "markdown",
   "metadata": {},
   "source": [
    "Define emtr, the effective marginal tax rate this person pays (e.g. how much of their last hour's income do they lose"
   ]
  },
  {
   "cell_type": "code",
   "execution_count": 129,
   "metadata": {},
   "outputs": [
    {
     "data": {
      "text/plain": [
       "80.419826652222753"
      ]
     },
     "execution_count": 129,
     "metadata": {},
     "output_type": "execute_result"
    }
   ],
   "source": [
    "def emtr(P):\n",
    "    P.hours = P.hours - 1\n",
    "    temp = takeHome(P)\n",
    "    P.hours += 1\n",
    "    diff = (takeHome(P) - temp)\n",
    "    return 100*(P.hwage-diff)/(P.hwage)\n",
    "emtr(Person1)"
   ]
  },
  {
   "cell_type": "markdown",
   "metadata": {},
   "source": [
    "That's very high!!"
   ]
  },
  {
   "cell_type": "markdown",
   "metadata": {},
   "source": [
    "# Graph Settings"
   ]
  },
  {
   "cell_type": "code",
   "execution_count": 130,
   "metadata": {},
   "outputs": [],
   "source": [
    "def initialisePlot(ax):\n",
    "    # Dumb   \n",
    "    ax.spines[\"top\"].set_visible(False)    \n",
    "    ax.spines[\"bottom\"].set_visible(False)    \n",
    "    ax.spines[\"right\"].set_visible(False)    \n",
    "    ax.spines[\"left\"].set_visible(False)     \n",
    "    ax.get_xaxis().tick_bottom()    \n",
    "    ax.get_yaxis().tick_left()\n",
    "    return\n",
    "\n",
    "def setLimits(xmin, xmax, ymin, ymax):\n",
    "    plt.xlim(xmin, xmax)    \n",
    "    plt.ylim(ymin, ymax)    \n",
    "    return\n",
    "\n",
    "def tickAndDot(mintick,maxtick,tickrange,toLeft=\"\",toRight=\"\",xmin=0,xmax=50):\n",
    "    # Ticks \n",
    "    plt.yticks(range(mintick, maxtick, tickrange), \n",
    "               [toLeft + str(i) + toRight for i in range(mintick, maxtick, tickrange)], \n",
    "               fontsize=14)\n",
    "    plt.xticks(fontsize=14)    \n",
    "    # Lines    \n",
    "    for i in range(mintick, maxtick, tickrange):    \n",
    "        plt.plot(range(xmin, xmax), [i] * len(range(xmin, xmax)), \"--\", lw=0.5, color=\"black\", alpha=0.3)    \n",
    "    # BS  \n",
    "    plt.tick_params(axis=\"both\", which=\"both\", bottom=\"off\", top=\"off\",    \n",
    "                labelbottom=\"on\", left=\"off\", right=\"off\", labelleft=\"on\")    \n",
    "    return\n",
    "\n",
    "def actuallyPlot(ax,x,y1,y2,color1,color2):\n",
    "    ax.plot(x, y1, lw=2.5, color=color1)\n",
    "    ax.plot(x, y2, lw=2.5, color=color2) \n",
    "\n",
    "def labelAndSave(ax,title, xlab = \"\",ylab = \"\"):\n",
    "    ax.set_ylabel(ylab)   \n",
    "    ax.set_xlabel(xlab)  \n",
    "    ax.axhline(linestyle='-', color='k', lw=1);\n",
    "    plt.title(title, fontsize=17, ha=\"center\");    \n",
    "    plt.savefig(title + \".png\", bbox_inches=\"tight\"); "
   ]
  },
  {
   "cell_type": "markdown",
   "metadata": {},
   "source": [
    "# Make Graphs"
   ]
  },
  {
   "cell_type": "code",
   "execution_count": 131,
   "metadata": {},
   "outputs": [],
   "source": [
    "x = np.linspace(2, 50, 100)\n",
    "y1 = [0]*100\n",
    "y2 = [0]*100\n",
    "j = 0\n",
    "hold = Person1.hours\n",
    "hold2 = Person1.jobSeeker\n",
    "Person1.jobSeeker = False\n",
    "for i in x:\n",
    "    Person1.hours = i\n",
    "    y1[j] = takeHome(Person1)\n",
    "    j+=1\n",
    "\n",
    "Person1.jobSeeker = True\n",
    "j = 0\n",
    "for i in x:\n",
    "    Person1.hours = i\n",
    "    y2[j] = takeHome(Person1)\n",
    "    j+=1\n",
    "    \n",
    "Person1.hours = hold\n",
    "Person1.jobSeeker = hold2"
   ]
  },
  {
   "cell_type": "code",
   "execution_count": 132,
   "metadata": {},
   "outputs": [
    {
     "data": {
      "image/png": "[encoded data removed]",
      "text/plain": [
       "<matplotlib.figure.Figure at 0x114c96450>"
      ]
     },
     "metadata": {},
     "output_type": "display_data"
    }
   ],
   "source": [
    "plt.figure(figsize=(12, 9))  \n",
    "ax = plt.subplot(111)   \n",
    "initialisePlot(ax)\n",
    "setLimits(0, 50, -50, 1400)\n",
    "tickAndDot(0,1501,100,\"$\",\"\",0,60)\n",
    "ax.plot(x, y1, lw=2.5, color='k', label = 'Jobseeker')\n",
    "ax.plot(x, y2, lw=2.5, color='r', label = 'No Jobseeker')\n",
    "ax.legend()\n",
    "labelAndSave(ax,'Take Home Income, Two Child Family Both Working for Median Income', \"Hours Worked\")"
   ]
  },
  {
   "cell_type": "code",
   "execution_count": 133,
   "metadata": {},
   "outputs": [],
   "source": [
    "x = np.linspace(2, 50, 100)\n",
    "y1 = [0]*100\n",
    "y2 = [0]*100\n",
    "j = 0\n",
    "hold = Person1.hours\n",
    "hold2 = Person1.jobSeeker\n",
    "Person1.jobSeeker = False\n",
    "for i in x:\n",
    "    Person1.hours = i\n",
    "    y1[j] = benefitsReceived(Person1)\n",
    "    j+=1\n",
    "\n",
    "Person1.jobSeeker = True\n",
    "j = 0\n",
    "for i in x:\n",
    "    Person1.hours = i\n",
    "    y2[j] = benefitsReceived(Person1)\n",
    "    j+=1\n",
    "    \n",
    "Person1.hours = hold\n",
    "Person1.jobSeeker = hold2"
   ]
  },
  {
   "cell_type": "code",
   "execution_count": 134,
   "metadata": {},
   "outputs": [
    {
     "data": {
      "image/png": "[encoded data removed]",
      "text/plain": [
       "<matplotlib.figure.Figure at 0x1149f11d0>"
      ]
     },
     "metadata": {},
     "output_type": "display_data"
    }
   ],
   "source": [
    "plt.figure(figsize=(12, 9))  \n",
    "ax = plt.subplot(111)   \n",
    "initialisePlot(ax)\n",
    "#setLimits(0, 50, -50, 600)\n",
    "tickAndDot(0,601,100,\"$\",\"\",0,60)\n",
    "actuallyPlot(ax,x,y1,y2,'k','r')\n",
    "labelAndSave(ax,'Benefits Received, Two Child Family Both Working for Median Income, no Accom Sup', 'Hours Worked')"
   ]
  },
  {
   "cell_type": "code",
   "execution_count": 135,
   "metadata": {},
   "outputs": [],
   "source": [
    "x = np.linspace(2, 50, 100)\n",
    "y1 = [0]*100\n",
    "y2 = [0]*100\n",
    "j = 0\n",
    "hold = Person1.hours\n",
    "hold2 = Person1.jobSeeker\n",
    "Person1.jobSeeker = False\n",
    "for i in x:\n",
    "    Person1.hours = i\n",
    "    y1[j] = emtr(Person1)\n",
    "    j+=1\n",
    "\n",
    "Person1.jobSeeker = True\n",
    "j = 0\n",
    "for i in x:\n",
    "    Person1.hours = i\n",
    "    y2[j] = emtr(Person1)\n",
    "    j+=1\n",
    "    \n",
    "Person1.hours = hold\n",
    "Person1.jobSeeker = hold2"
   ]
  },
  {
   "cell_type": "code",
   "execution_count": 136,
   "metadata": {},
   "outputs": [
    {
     "data": {
      "image/png": "[encoded data removed]",
      "text/plain": [
       "<matplotlib.figure.Figure at 0x114c3bed0>"
      ]
     },
     "metadata": {},
     "output_type": "display_data"
    }
   ],
   "source": [
    "plt.figure(figsize=(12, 9))  \n",
    "ax = plt.subplot(111)   \n",
    "initialisePlot(ax)\n",
    "setLimits(0, 50, -15, 105)\n",
    "tickAndDot(-10,101,10,\"\",\"%\",0,60)\n",
    "actuallyPlot(ax,x,y1,y2,'k','r')\n",
    "labelAndSave(ax,'EMTR, Two Child Family Both Working for Median Income, no Accom Sup', 'Hours Worked') "
   ]
  },
  {
   "cell_type": "markdown",
   "metadata": {},
   "source": [
    "## TODO - Define EMTR better so the graph has some use at all"
   ]
  },
  {
   "cell_type": "markdown",
   "metadata": {},
   "source": [
    "# Function for vital info on a Person"
   ]
  },
  {
   "cell_type": "code",
   "execution_count": 137,
   "metadata": {},
   "outputs": [],
   "source": [
    "def giveVitals(P):\n",
    "    print(\"Hours worked per week: \" + str(P.hours))\n",
    "    print(\"Hourly wage: \" + str(P.hwage))\n",
    "    print(\"Weekly income before tax: \" + str(P.wibt()))\n",
    "    print(\"Annual income before tax: \" + str(P.aibt()))\n",
    "    print(\"Annual tax owed: \" + str(P.taxOwed()))\n",
    "    print(\"Benefits received weekly: \" + str(benefitsReceived(P)))\n",
    "    print(\"Benefits received annually: \" + str(benefitsReceived(P)*52))\n",
    "    print(\"Take home income weekly: \" + str(takeHome(P)))\n",
    "    print(\"Take home income annually: \" + str(takeHome(P)*52))\n",
    "    print(\"Take home income annually less housing: \" + str((takeHome(P)-P.wHousingCost)*52))\n",
    "    print(\"EMTR: \" + str(emtr(P)))\n",
    "    print(\"Number of children: \" + str(P.numKids))"
   ]
  },
  {
   "cell_type": "code",
   "execution_count": 138,
   "metadata": {},
   "outputs": [
    {
     "name": "stdout",
     "output_type": "stream",
     "text": [
      "Hours worked per week: 50\n",
      "Hourly wage: 18.46\n",
      "Weekly income before tax: 923.0\n",
      "Annual income before tax: 47996.0\n",
      "Annual tax owed: 142.678846154\n",
      "Benefits received weekly: 325.75\n",
      "Benefits received annually: 16939.0\n",
      "Take home income weekly: 1106.07115385\n",
      "Take home income annually: 57515.7\n",
      "Take home income annually less housing: 28915.7\n",
      "EMTR: 80.4198266522\n",
      "Number of children: 2\n"
     ]
    }
   ],
   "source": [
    "giveVitals(Person1)"
   ]
  },
  {
   "cell_type": "code",
   "execution_count": 139,
   "metadata": {},
   "outputs": [
    {
     "data": {
      "text/plain": [
       "104.0"
      ]
     },
     "execution_count": 139,
     "metadata": {},
     "output_type": "execute_result"
    }
   ],
   "source": [
    "ftcEarned(Person1)"
   ]
  },
  {
   "cell_type": "markdown",
   "metadata": {},
   "source": [
    "## New Families\n",
    "\n",
    "Single parent on 30000 with 1 child living in Auckland\n",
    "\n",
    "35000 with 4 kids 2 parents living in Auckland\n",
    "\n",
    "Single parent earning 50,000 with 3 children living in Auckland\n",
    "\n",
    "All on minimum wage"
   ]
  },
  {
   "cell_type": "code",
   "execution_count": 140,
   "metadata": {},
   "outputs": [],
   "source": [
    "Person2 = Person(30000/(52*15.75),15.75,numKids = 1, accom = True,couple = False,livingArea = 1,\n",
    "                 wHousingCost = 370, renting = True,jobSeeker = False)\n",
    "\n",
    "Person3 = Person(35000/(52*15.75),15.75,numKids = 4, accom = True,couple = True,livingArea = 1,\n",
    "                 wHousingCost = 662, renting = True,jobSeeker = False)\n",
    "\n",
    "Person4 = Person(50000/(52*15.75),15.75,numKids = 2, accom = True,couple = False,livingArea = 1,\n",
    "                 wHousingCost = 470, renting = True,jobSeeker = False)\n",
    "\n",
    "# Costs taken from https://www.tenancy.govt.nz/rent-bond-and-bills/market-rent/?location=howick&period=55&action_doSearchValues=Find+Rent\n",
    "# In Howick"
   ]
  },
  {
   "cell_type": "code",
   "execution_count": 141,
   "metadata": {},
   "outputs": [
    {
     "name": "stdout",
     "output_type": "stream",
     "text": [
      "Hours worked per week: 36.63003663\n",
      "Hourly wage: 15.75\n",
      "Weekly income before tax: 576.923076923\n",
      "Annual income before tax: 30000.0\n",
      "Annual tax owed: 82.1153846154\n",
      "Benefits received weekly: 317.519230769\n",
      "Benefits received annually: 16511.0\n",
      "Take home income weekly: 812.326923077\n",
      "Take home income annually: 42241.0\n",
      "Take home income annually less housing: 23001.0\n",
      "EMTR: 42.5\n",
      "Number of children: 1\n"
     ]
    }
   ],
   "source": [
    "giveVitals(Person2)"
   ]
  },
  {
   "cell_type": "code",
   "execution_count": 142,
   "metadata": {},
   "outputs": [
    {
     "name": "stdout",
     "output_type": "stream",
     "text": [
      "Hours worked per week: 42.735042735\n",
      "Hourly wage: 15.75\n",
      "Weekly income before tax: 673.076923077\n",
      "Annual income before tax: 35000.0\n",
      "Annual tax owed: 98.9423076923\n",
      "Benefits received weekly: 585.230769231\n",
      "Benefits received annually: 30432.0\n",
      "Take home income weekly: 1159.36538462\n",
      "Take home income annually: 60287.0\n",
      "Take home income annually less housing: 25863.0\n",
      "EMTR: 42.5\n",
      "Number of children: 4\n"
     ]
    }
   ],
   "source": [
    "giveVitals(Person3)"
   ]
  },
  {
   "cell_type": "code",
   "execution_count": 143,
   "metadata": {},
   "outputs": [
    {
     "name": "stdout",
     "output_type": "stream",
     "text": [
      "Hours worked per week: 61.0500610501\n",
      "Hourly wage: 15.75\n",
      "Weekly income before tax: 961.538461538\n",
      "Annual income before tax: 50000.0\n",
      "Annual tax owed: 154.230769231\n",
      "Benefits received weekly: 292.365384615\n",
      "Benefits received annually: 15203.0\n",
      "Take home income weekly: 1099.67307692\n",
      "Take home income annually: 57183.0\n",
      "Take home income annually less housing: 32743.0\n",
      "EMTR: 55.0\n",
      "Number of children: 2\n"
     ]
    }
   ],
   "source": [
    "giveVitals(Person4)"
   ]
  }
 ],
 "metadata": {
  "kernelspec": {
   "display_name": "Python 2",
   "language": "python",
   "name": "python2"
  },
  "language_info": {
   "codemirror_mode": {
    "name": "ipython",
    "version": 2
   },
   "file_extension": ".py",
   "mimetype": "text/x-python",
   "name": "python",
   "nbconvert_exporter": "python",
   "pygments_lexer": "ipython2",
   "version": "2.7.13"
  }
 },
 "nbformat": 4,
 "nbformat_minor": 2
}
